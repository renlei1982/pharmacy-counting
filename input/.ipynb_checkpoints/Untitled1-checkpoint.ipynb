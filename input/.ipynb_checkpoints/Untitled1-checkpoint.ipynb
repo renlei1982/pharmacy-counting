{
 "cells": [
  {
   "cell_type": "code",
   "execution_count": 7,
   "metadata": {
    "collapsed": false
   },
   "outputs": [
    {
     "data": {
      "text/plain": [
       "<function TextIOWrapper.close>"
      ]
     },
     "execution_count": 7,
     "metadata": {},
     "output_type": "execute_result"
    }
   ],
   "source": [
    "''''''''''\n",
    "def generate_repeat_donors(_input_file, _output_file):\n",
    "    # Open all the required files\n",
    "    f_input = open('de_cc_data.txt', 'r')\n",
    "    f_output = open(_output_file, 'w+')\n",
    "    num = 0\n",
    "    # Streaming each line from input file\n",
    "    for line in f_input.readlines():\n",
    "\n",
    "        # Identify and name all the required info \n",
    "        fields = line.split(',')\n",
    "        ID = fields[0]\n",
    "        lastName = fields[1]\n",
    "        firstName = fields[2]\n",
    "        drugName = fields[3]\n",
    "        drugCost = fields[4]\n",
    "\n",
    "        # Validate all the items are in the right format\n",
    "        if validate_arg(ID, lastName, firstName, drugName, drugCost):\n",
    "            if num%100000 == 0\n",
    "            print(ID + '  ' + 'lastName' + '  ' + 'firstName' + '  ' + 'drugName' + '  ' + 'drugCost')\n",
    "            # Use the donors' name and zip code as their special ID\n",
    "            \n",
    "            #r = '|'.join([CMTE_ID, ZIP_CODE, str(YEAR)])\n",
    "                \n",
    "            #f_output.write('|'.join([r, str(percentile), str(total), str(l)]) + os.linesep)\n",
    "\n",
    "\n",
    "        else:\n",
    "            continue\n",
    "    \n",
    "    #f_percentile.close()\n",
    "    #f_input.close()\n",
    "    #f_output.close()\n",
    "'''''''''\n",
    "dictCost = {}\n",
    "dictPrescriber = {}\n",
    "\n",
    "\n",
    "def validate_line(ID, lastName, firstName, drugName, drugCost):\n",
    "    if not isint(ID):\n",
    "        return False\n",
    "    if not lastName.isupper():\n",
    "        return False\n",
    "    if not firstName.isupper():\n",
    "        return False\n",
    "    if not drugName.isupper():\n",
    "        return False\n",
    "    if not isfloat(drugCost):\n",
    "        return False\n",
    "    \n",
    "    return True\n",
    "\n",
    "def isfloat(value):\n",
    "    try:\n",
    "        float(value)\n",
    "        return True\n",
    "    except ValueError:\n",
    "        return False\n",
    "    \n",
    "def isint(value):\n",
    "    try:\n",
    "        int(value)\n",
    "        return True\n",
    "    except ValueError:\n",
    "        return False\n",
    "\n",
    "\n",
    "\n",
    "def processLine(line):\n",
    "    fields = line.split(',')\n",
    "    ID = fields[0]\n",
    "    lastName = fields[1]\n",
    "    firstName = fields[2]\n",
    "    drugName = fields[3]\n",
    "    drugCost = fields[4]\n",
    "    \n",
    "    if validate_line(ID, lastName, firstName, drugName, drugCost):\n",
    "        ID = int(ID)\n",
    "        drugCost = round(float(drugCost), 2) * 1.00\n",
    "        fullName = lastName + ':' + firstName\n",
    "        if drugName not in dictCost:\n",
    "            dictCost[drugName] = drugCost\n",
    "            dictPrescriber[drugName] = {fullName}\n",
    "        else:\n",
    "            dictCost[drugName] += drugCost\n",
    "            dictPrescriber[drugName] |= {fullName}\n",
    "            \n",
    "\n",
    "def pharmacyCounting(inputFile, outputFile):\n",
    "    f_input = open(inputFile, 'r')\n",
    "    # Streaming each line from input file\n",
    "    for line in f_input.readlines():\n",
    "        processLine(line)\n",
    "    f_input.close()\n",
    "\n",
    "\n",
    "    \n",
    "    f_output = open(outputFile, 'w+')  \n",
    "    f_output.write('drug_name, num_prescriber, total_cost\\n')\n",
    "    for k, v in sorted(dictCost.items(), key = lambda item:(-item[1], item[0])):\n",
    "        f_output.write(str(k) + ', ' + str(len(dictPrescriber[k])) + ', ' + str(v) + '\\n')\n",
    "    f_output.close\n"
   ]
  },
  {
   "cell_type": "code",
   "execution_count": 5,
   "metadata": {
    "collapsed": false
   },
   "outputs": [
    {
     "data": {
      "text/plain": [
       "2748"
      ]
     },
     "execution_count": 5,
     "metadata": {},
     "output_type": "execute_result"
    }
   ],
   "source": [
    "len(dictCost)"
   ]
  },
  {
   "cell_type": "code",
   "execution_count": 6,
   "metadata": {
    "collapsed": false
   },
   "outputs": [
    {
     "data": {
      "text/plain": [
       "2748"
      ]
     },
     "execution_count": 6,
     "metadata": {},
     "output_type": "execute_result"
    }
   ],
   "source": [
    "len(dictPrescriber)"
   ]
  },
  {
   "cell_type": "code",
   "execution_count": null,
   "metadata": {
    "collapsed": true
   },
   "outputs": [],
   "source": []
  }
 ],
 "metadata": {
  "kernelspec": {
   "display_name": "Python [default]",
   "language": "python",
   "name": "python3"
  },
  "language_info": {
   "codemirror_mode": {
    "name": "ipython",
    "version": 3
   },
   "file_extension": ".py",
   "mimetype": "text/x-python",
   "name": "python",
   "nbconvert_exporter": "python",
   "pygments_lexer": "ipython3",
   "version": "3.5.2"
  }
 },
 "nbformat": 4,
 "nbformat_minor": 1
}
