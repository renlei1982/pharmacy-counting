{
 "cells": [
  {
   "cell_type": "code",
   "execution_count": 1,
   "metadata": {
    "collapsed": false
   },
   "outputs": [
    {
     "ename": "NameError",
     "evalue": "name 'dictCost' is not defined",
     "output_type": "error",
     "traceback": [
      "\u001b[0;31m---------------------------------------------------------------------------\u001b[0m",
      "\u001b[0;31mNameError\u001b[0m                                 Traceback (most recent call last)",
      "\u001b[0;32m<ipython-input-1-eeea25907ff8>\u001b[0m in \u001b[0;36m<module>\u001b[0;34m()\u001b[0m\n\u001b[1;32m     76\u001b[0m \u001b[0moutput_file\u001b[0m \u001b[1;33m=\u001b[0m \u001b[1;34m'top_cost_drug.txt'\u001b[0m\u001b[1;33m\u001b[0m\u001b[0m\n\u001b[1;32m     77\u001b[0m \u001b[0mct\u001b[0m \u001b[1;33m=\u001b[0m \u001b[0mtopCostDrug\u001b[0m\u001b[1;33m(\u001b[0m\u001b[1;33m)\u001b[0m\u001b[1;33m\u001b[0m\u001b[0m\n\u001b[0;32m---> 78\u001b[0;31m \u001b[0mct\u001b[0m\u001b[1;33m.\u001b[0m\u001b[0mpharmacyCounting\u001b[0m\u001b[1;33m(\u001b[0m\u001b[0minput_file\u001b[0m\u001b[1;33m,\u001b[0m \u001b[0moutput_file\u001b[0m\u001b[1;33m)\u001b[0m\u001b[1;33m\u001b[0m\u001b[0m\n\u001b[0m\u001b[1;32m     79\u001b[0m \u001b[1;33m\u001b[0m\u001b[0m\n",
      "\u001b[0;32m<ipython-input-1-eeea25907ff8>\u001b[0m in \u001b[0;36mpharmacyCounting\u001b[0;34m(self, inputFile, outputFile)\u001b[0m\n\u001b[1;32m     61\u001b[0m         \u001b[1;31m# Streaming each line from input file\u001b[0m\u001b[1;33m\u001b[0m\u001b[1;33m\u001b[0m\u001b[0m\n\u001b[1;32m     62\u001b[0m         \u001b[1;32mfor\u001b[0m \u001b[0mline\u001b[0m \u001b[1;32min\u001b[0m \u001b[0mf_input\u001b[0m\u001b[1;33m.\u001b[0m\u001b[0mreadlines\u001b[0m\u001b[1;33m(\u001b[0m\u001b[1;33m)\u001b[0m\u001b[1;33m:\u001b[0m\u001b[1;33m\u001b[0m\u001b[0m\n\u001b[0;32m---> 63\u001b[0;31m             \u001b[0mself\u001b[0m\u001b[1;33m.\u001b[0m\u001b[0mprocessLine\u001b[0m\u001b[1;33m(\u001b[0m\u001b[0mline\u001b[0m\u001b[1;33m)\u001b[0m\u001b[1;33m\u001b[0m\u001b[0m\n\u001b[0m\u001b[1;32m     64\u001b[0m         \u001b[0mf_input\u001b[0m\u001b[1;33m.\u001b[0m\u001b[0mclose\u001b[0m\u001b[1;33m(\u001b[0m\u001b[1;33m)\u001b[0m\u001b[1;33m\u001b[0m\u001b[0m\n\u001b[1;32m     65\u001b[0m \u001b[1;33m\u001b[0m\u001b[0m\n",
      "\u001b[0;32m<ipython-input-1-eeea25907ff8>\u001b[0m in \u001b[0;36mprocessLine\u001b[0;34m(self, line)\u001b[0m\n\u001b[1;32m     49\u001b[0m             \u001b[0mdrugCost\u001b[0m \u001b[1;33m=\u001b[0m \u001b[0mround\u001b[0m\u001b[1;33m(\u001b[0m\u001b[0mfloat\u001b[0m\u001b[1;33m(\u001b[0m\u001b[0mdrugCost\u001b[0m\u001b[1;33m)\u001b[0m\u001b[1;33m,\u001b[0m \u001b[1;36m2\u001b[0m\u001b[1;33m)\u001b[0m\u001b[1;33m\u001b[0m\u001b[0m\n\u001b[1;32m     50\u001b[0m             \u001b[0mfullName\u001b[0m \u001b[1;33m=\u001b[0m \u001b[0mlastName\u001b[0m \u001b[1;33m+\u001b[0m \u001b[1;34m':'\u001b[0m \u001b[1;33m+\u001b[0m \u001b[0mfirstName\u001b[0m\u001b[1;33m\u001b[0m\u001b[0m\n\u001b[0;32m---> 51\u001b[0;31m             \u001b[1;32mif\u001b[0m \u001b[0mdrugName\u001b[0m \u001b[1;32mnot\u001b[0m \u001b[1;32min\u001b[0m \u001b[0mdictCost\u001b[0m\u001b[1;33m:\u001b[0m\u001b[1;33m\u001b[0m\u001b[0m\n\u001b[0m\u001b[1;32m     52\u001b[0m                 \u001b[0mself\u001b[0m\u001b[1;33m.\u001b[0m\u001b[0mdictCost\u001b[0m\u001b[1;33m[\u001b[0m\u001b[0mdrugName\u001b[0m\u001b[1;33m]\u001b[0m \u001b[1;33m=\u001b[0m \u001b[0mdrugCost\u001b[0m\u001b[1;33m\u001b[0m\u001b[0m\n\u001b[1;32m     53\u001b[0m                 \u001b[0mself\u001b[0m\u001b[1;33m.\u001b[0m\u001b[0mdictPrescriber\u001b[0m\u001b[1;33m[\u001b[0m\u001b[0mdrugName\u001b[0m\u001b[1;33m]\u001b[0m \u001b[1;33m=\u001b[0m \u001b[1;33m{\u001b[0m\u001b[0mfullName\u001b[0m\u001b[1;33m}\u001b[0m\u001b[1;33m\u001b[0m\u001b[0m\n",
      "\u001b[0;31mNameError\u001b[0m: name 'dictCost' is not defined"
     ]
    }
   ],
   "source": [
    "import sys\n",
    "global str\n",
    "\n",
    "\n",
    "def validate_line(ID, lastName, firstName, drugName, drugCost):\n",
    "    if not isint(ID):\n",
    "        return False\n",
    "    if not lastName.isupper():\n",
    "        return False\n",
    "    if not firstName.isupper():\n",
    "        return False\n",
    "    if not drugName.isupper():\n",
    "        return False\n",
    "    if not isfloat(drugCost):\n",
    "        return False\n",
    "    \n",
    "    return True\n",
    "\n",
    "def isfloat(value):\n",
    "    try:\n",
    "        float(value)\n",
    "        return True\n",
    "    except ValueError:\n",
    "        return False\n",
    "    \n",
    "def isint(value):\n",
    "    try:\n",
    "        int(value)\n",
    "        return True\n",
    "    except ValueError:\n",
    "        return False\n",
    "\n",
    "\n",
    "class topCostDrug():\n",
    "\n",
    "    def __init__(self):\n",
    "        self.dictCost = {}\n",
    "        self.dictPrescriber = {}\n",
    "    \n",
    "    def processLine(self, line):\n",
    "        fields = line.split(',')\n",
    "        ID = fields[0]\n",
    "        lastName = fields[1]\n",
    "        firstName = fields[2]\n",
    "        drugName = fields[3]\n",
    "        drugCost = fields[4]\n",
    "    \n",
    "        if validate_line(ID, lastName, firstName, drugName, drugCost):\n",
    "            drugCost = round(float(drugCost), 2)\n",
    "            fullName = lastName + ':' + firstName\n",
    "            if drugName not in self.dictCost:\n",
    "                self.dictCost[drugName] = drugCost\n",
    "                self.dictPrescriber[drugName] = {fullName}\n",
    "            else:\n",
    "                self.dictCost[drugName] += drugCost\n",
    "                self.dictPrescriber[drugName] |= {fullName}\n",
    "            \n",
    "\n",
    "    def pharmacyCounting(self, inputFile, outputFile):\n",
    "        f_input = open(inputFile, 'r')\n",
    "        # Streaming each line from input file\n",
    "        for line in f_input.readlines():\n",
    "            self.processLine(line)\n",
    "        f_input.close()\n",
    "\n",
    "        f_output = open(outputFile, 'w+')  \n",
    "        f_output.write('drug_name, num_prescriber, total_cost\\n')\n",
    "        for k, v in sorted(self.dictCost.items(), key = lambda item:(-item[1], item[0])):\n",
    "            f_output.write(str(k) + ', ' + str(len(self.dictPrescriber[k])) + ', ' + str(v) + '\\n')\n",
    "        f_output.close\n",
    "\n",
    "\n",
    "\n",
    "\n",
    "input_file = 'itcont.txt'\n",
    "output_file = 'top_cost_drug.txt'\n",
    "ct = topCostDrug()\n",
    "ct.pharmacyCounting(input_file, output_file)\n",
    "\n"
   ]
  },
  {
   "cell_type": "code",
   "execution_count": null,
   "metadata": {
    "collapsed": true
   },
   "outputs": [],
   "source": []
  }
 ],
 "metadata": {
  "anaconda-cloud": {},
  "kernelspec": {
   "display_name": "Python [default]",
   "language": "python",
   "name": "python3"
  },
  "language_info": {
   "codemirror_mode": {
    "name": "ipython",
    "version": 3
   },
   "file_extension": ".py",
   "mimetype": "text/x-python",
   "name": "python",
   "nbconvert_exporter": "python",
   "pygments_lexer": "ipython3",
   "version": "3.5.2"
  }
 },
 "nbformat": 4,
 "nbformat_minor": 1
}
